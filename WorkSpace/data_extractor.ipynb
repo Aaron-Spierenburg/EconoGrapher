{
 "cells": [
  {
   "cell_type": "code",
   "execution_count": null,
   "metadata": {},
   "outputs": [],
   "source": [
    "import re, pandas as pd, datetime, decimal, bs4\n",
    "def toDecimalConversion(number,quant=20):\n",
    "    quant = decimal.Decimal(str(quant))\n",
    "    quant = 1*10**(-quant)\n",
    "    decimal_return = decimal.Decimal(str(number)).quantize(quant)\n",
    "    return decimal_return"
   ]
  },
  {
   "cell_type": "code",
   "execution_count": null,
   "metadata": {},
   "outputs": [],
   "source": [
    "with open('dataimport1.html','r',encoding='utf-8') as file:\n",
    "    soup = bs4.BeautifulSoup(file.read(),'html.parser')\n",
    "    with open('dataimport1a.html','w',encoding='utf-8') as nfile:\n",
    "        nfile.write((soup.prettify()))"
   ]
  },
  {
   "cell_type": "code",
   "execution_count": null,
   "metadata": {},
   "outputs": [],
   "source": [
    "with open('dataimport1a.html','r') as file:\n",
    "    data = file.read()\n",
    "extractDF = pd.DataFrame(columns=['Date','Time','Actual','Consensus'])"
   ]
  },
  {
   "cell_type": "code",
   "execution_count": null,
   "metadata": {},
   "outputs": [],
   "source": [
    "info = re.findall('<tr.*?historicEvent.*?</tr>',data,re.DOTALL)\n",
    "for i in info:\n",
    "    prelim = re.search('Preliminary Release',i,re.DOTALL)\n",
    "    month_re = re.search('<td.*?\\n(.*?)\\n.*?</td>',i,re.DOTALL)\n",
    "    time_re = re.search('.*?</td>.*?<td.*?\\n(.*?)\\n.*?</td>',i,re.DOTALL)\n",
    "    actual_re = re.search('.*?</td>.*?</td>.*?<td.*?\\n.*?\\n(.*?)\\n.*?</td>',i,re.DOTALL)\n",
    "    consensus_re = re.search('.*?</td>.*?</td>.*?</td>.*?<td.*?\\n(.*?)\\n.*?</td>',i,re.DOTALL)\n",
    "    actual_re  =actual_re.group(1)\n",
    "    consensus_re = consensus_re.group(1)\n",
    "    for x in ['M','%','K','B']:\n",
    "        actual_re = actual_re.replace(x,'')\n",
    "        consensus_re = consensus_re.replace(x,'')\n",
    "    actual_re = toDecimalConversion(actual_re,6)\n",
    "    try:\n",
    "        consensus_re = toDecimalConversion(consensus_re,6)\n",
    "    except:\n",
    "        continue\n",
    "    row = {'Date':month_re.group(1),'Time':time_re.group(1).replace(' ',''),'Actual':actual_re,'Consensus':consensus_re}\n",
    "    extractDF.loc[len(extractDF)] = row"
   ]
  },
  {
   "cell_type": "code",
   "execution_count": null,
   "metadata": {},
   "outputs": [],
   "source": [
    "\n",
    "extractDF['Difference'] = extractDF['Actual'] - extractDF['Consensus']\n",
    "\n",
    "extractDF['Actual'] = extractDF['Actual'].apply(pd.to_numeric)\n",
    "\n",
    "extractDF['Consensus'] = pd.to_numeric(extractDF['Consensus'],errors='coerce')"
   ]
  },
  {
   "cell_type": "code",
   "execution_count": null,
   "metadata": {},
   "outputs": [],
   "source": [
    "dst_str = {\n",
    "    2023:('2023-03-12','2023-11-05'),\n",
    "    2022:('2022-03-13','2022-11-06'),\n",
    "    2021:('2021-03-14','2021-11-07'),\n",
    "    2020:('2020-03-08','2020-11-01'),\n",
    "    2019:('2019-03-10','2019-11-03'),\n",
    "    2018:('2018-03-11','2018-11-04'),\n",
    "    2017:('2017-03-12','2017-11-05'),\n",
    "    2016:('2016-03-13','2016-11-06'),\n",
    "    2015:('2015-03-08','2015-11-01'),\n",
    "    2014:('2014-03-09','2014-11-02'),\n",
    "    2013:('2013-03-10','2013-11-03'),\n",
    "    2012:('2012-03-11','2012-11-04'),\n",
    "    2011:('2011-03-13','2011-11-06'),\n",
    "    2010:('2010-03-14','2010-11-07'),\n",
    "    2009:('2009-03-08','2009-11-01'),\n",
    "    2008:('2008-03-09','2008-11-02'),\n",
    "    }\n",
    "dst = {}\n",
    "for i in dst_str:\n",
    "    temptup = []\n",
    "    for j in dst_str[i]:\n",
    "        j = pd.to_datetime(j)\n",
    "        temptup.append(j)\n",
    "    dst[i] = temptup"
   ]
  },
  {
   "cell_type": "code",
   "execution_count": null,
   "metadata": {},
   "outputs": [],
   "source": [
    "extractDFDates = extractDF.copy()\n",
    "for i,r in extractDF.iterrows():\n",
    "    if '(' in r[\"Date\"]:\n",
    "        date = re.search('(.*?)\\(.*',r['Date'])\n",
    "        newdate = date.group(1).strip()\n",
    "    else:\n",
    "        newdate = r['Date']\n",
    "    \n",
    "    newdate = f'{newdate} {r[\"Time\"]}'\n",
    "    newdate = pd.to_datetime(newdate)\n",
    "    if newdate>dst[newdate.year][0] and newdate<dst[newdate.year][1]:\n",
    "        newdate = newdate + datetime.timedelta(hours=8)\n",
    "    else:\n",
    "        newdate = newdate + datetime.timedelta(hours=7)\n",
    "    extractDFDates['Date'].at[i] = newdate\n",
    "extractDFDates.drop(columns=['Time'],inplace=True) "
   ]
  },
  {
   "cell_type": "code",
   "execution_count": null,
   "metadata": {},
   "outputs": [],
   "source": [
    "extractDFDates.to_csv('extractDF.csv')"
   ]
  }
 ],
 "metadata": {
  "kernelspec": {
   "display_name": "Data Analysis",
   "language": "python",
   "name": "_venv_data_analysis"
  },
  "language_info": {
   "codemirror_mode": {
    "name": "ipython",
    "version": 3
   },
   "file_extension": ".py",
   "mimetype": "text/x-python",
   "name": "python",
   "nbconvert_exporter": "python",
   "pygments_lexer": "ipython3",
   "version": "3.11.0"
  }
 },
 "nbformat": 4,
 "nbformat_minor": 2
}
